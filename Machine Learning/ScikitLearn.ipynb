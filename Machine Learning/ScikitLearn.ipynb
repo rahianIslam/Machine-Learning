{
 "cells": [
  {
   "cell_type": "markdown",
   "metadata": {},
   "source": [
    "# Lab1 - Scikit-learn\n",
    "Author: *Rahian Islam*\n",
    "\n",
    "## Questions\n",
    "1. For each task (classification and regression), which model performs best on the validation data using all features?\n",
    "2. For each task (classification and regression), which model performs best on the validation data using two principal components?\n",
    "3. In each task (classification and regression), for each model, how do full feature and two principal component model scores compare on the validation data?\n",
    "4. Do any of the models underfit or overfit? Provide examples."
   ]
  },
  {
   "cell_type": "code",
   "execution_count": 2,
   "metadata": {},
   "outputs": [],
   "source": [
    "import numpy as np\n",
    "import pandas as pd\n",
    "import matplotlib.pyplot as plt\n",
    "import seaborn as sns"
   ]
  },
  {
   "cell_type": "markdown",
   "metadata": {},
   "source": [
    "## Function definitions"
   ]
  },
  {
   "cell_type": "code",
   "execution_count": 3,
   "metadata": {},
   "outputs": [],
   "source": [
    "from sklearn.metrics import accuracy_score\n",
    "from sklearn.model_selection import train_test_split\n",
    "\n",
    "\n",
    "\n",
    "def get_classifier_accuracy(model, X, y):\n",
    "    \n",
    "    \n",
    "    '''Calculate train and validation accuracy of classifier (model)\n",
    "        \n",
    "        Splits feature matrix X and target vector y \n",
    "        with sklearn train_test_split() and random_state=956.\n",
    "        \n",
    "        model (sklearn classifier): Classifier to train and evaluate\n",
    "        X (numpy.array or pandas.DataFrame): Feature matrix\n",
    "        y (numpy.array or pandas.Series): Target vector\n",
    "        \n",
    "        returns: training accuracy, validation accuracy\n",
    "    \n",
    "    '''\n",
    "    \n",
    "    #TODO: IMPLEMENT FUNCTION BODY\n",
    "    X_train, x_test, Y_train, y_test = train_test_split(X, y, random_state = 956 )\n",
    "    model.fit(X_train, Y_train)\n",
    "    y_pred_test = model.predict(x_test)\n",
    "    y_pred_train = model.predict(X_train)\n",
    "    V_acc = accuracy_score(y_test, y_pred_test)\n",
    "    T_acc = accuracy_score(Y_train, y_pred_train )\n",
    "    \n",
    "\n",
    "\n",
    "    return round(T_acc,3), round(V_acc,3)\n",
    "\n"
   ]
  },
  {
   "cell_type": "code",
   "execution_count": 4,
   "metadata": {},
   "outputs": [],
   "source": [
    "from sklearn.metrics import mean_squared_error\n",
    "from sklearn.model_selection import train_test_split\n",
    "\n",
    "def get_regressor_mse(model, X, y):\n",
    "    \n",
    "    \n",
    "    '''Calculate train and validation mean-squared error (mse) of regressor (model)\n",
    "        \n",
    "        Splits feature matrix X and target vector y \n",
    "        with sklearn train_test_split() and random_state=956.\n",
    "        \n",
    "        model (sklearn regressor): Regressor to train and evaluate\n",
    "        X (numpy.array or pandas.DataFrame): Feature matrix\n",
    "        y (numpy.array or pandas.Series): Target vector\n",
    "        \n",
    "        returns: training mse, validation mse\n",
    "    \n",
    "    '''\n",
    "   \n",
    "    #TODO: IMPLEMENT FUNCTION BODY\n",
    "    \n",
    "    \n",
    "    X_train, x_test, Y_train, y_test = train_test_split(X, y, random_state = 956 )\n",
    "    model.fit(X_train, Y_train)    \n",
    "    y_pred_test = model.predict(x_test)\n",
    "    y_pred_train = model.predict(X_train)\n",
    "    V_acc=mean_squared_error(y_test, y_pred_test)\n",
    "    T_acc=mean_squared_error(Y_train, y_pred_train)\n",
    "    \n",
    "\n",
    "    return round(T_acc,1), round(V_acc,1)\n",
    "\n"
   ]
  },
  {
   "cell_type": "code",
   "execution_count": 5,
   "metadata": {},
   "outputs": [],
   "source": [
    "from sklearn.decomposition import PCA\n",
    "\n",
    "def get_n_principal_components(X, n=2):\n",
    "    '''Extracts n principal componets from feature matrix X using sklearn PCA.\n",
    "        X (pandas.DataFrame): A feature matrix\n",
    "        n (int): number of principal components\n",
    "        \n",
    "        returns: feature matrix with n columns as numpy.array\n",
    "    '''\n",
    "    \n",
    "    #TODO: IMPLEMENT FUNCTION BODY\n",
    "    model = PCA(n_components = n)\n",
    "    model.fit(X)\n",
    "    Feat_mat = model.transform(X)\n",
    "    \n",
    "\n",
    "    \n",
    "    return Feat_mat"
   ]
  },
  {
   "cell_type": "markdown",
   "metadata": {},
   "source": [
    "## Classification\n",
    "\n",
    "Using yellowbrick spam - classification  \n",
    "https://www.scikit-yb.org/en/latest/api/datasets/spam.html\n",
    "\n",
    "The goal is to compare `LogisticRegression(max_iter=2000)` and `RandomForestClassifier(random_state=88)` classification performance on a validation set with full features and first two principal components."
   ]
  },
  {
   "cell_type": "markdown",
   "metadata": {},
   "source": [
    "### Load data\n",
    "\n",
    "Load the spam data set into feature matrix `X` and target vector `y`.\n",
    "\n",
    "Call `get_n_principal_components()` to obtain feature matrix `X_2D` containing the first two principal components.\n",
    "\n",
    "Print dimensions and type of `X`, `y`, and `X_2D`.\n"
   ]
  },
  {
   "cell_type": "code",
   "execution_count": 6,
   "metadata": {},
   "outputs": [
    {
     "output_type": "error",
     "ename": "ModuleNotFoundError",
     "evalue": "No module named 'yellowbrick'",
     "traceback": [
      "\u001b[1;31m---------------------------------------------------------------------------\u001b[0m",
      "\u001b[1;31mModuleNotFoundError\u001b[0m                       Traceback (most recent call last)",
      "\u001b[1;32m<ipython-input-6-b4c4f0612417>\u001b[0m in \u001b[0;36m<module>\u001b[1;34m\u001b[0m\n\u001b[0;32m      1\u001b[0m \u001b[1;31m# TODO: ADD YOUR CODE HERE\u001b[0m\u001b[1;33m\u001b[0m\u001b[1;33m\u001b[0m\u001b[1;33m\u001b[0m\u001b[0m\n\u001b[1;32m----> 2\u001b[1;33m \u001b[1;32mimport\u001b[0m \u001b[0myellowbrick\u001b[0m\u001b[1;33m.\u001b[0m\u001b[0mdatasets\u001b[0m\u001b[1;33m\u001b[0m\u001b[1;33m\u001b[0m\u001b[0m\n\u001b[0m\u001b[0;32m      3\u001b[0m \u001b[0mab\u001b[0m \u001b[1;33m=\u001b[0m \u001b[0myellowbrick\u001b[0m\u001b[1;33m.\u001b[0m\u001b[0mdatasets\u001b[0m\u001b[1;33m.\u001b[0m\u001b[0mloaders\u001b[0m\u001b[1;33m.\u001b[0m\u001b[0mload_spam\u001b[0m\u001b[1;33m(\u001b[0m\u001b[0mdata_home\u001b[0m\u001b[1;33m=\u001b[0m\u001b[1;32mNone\u001b[0m\u001b[1;33m,\u001b[0m \u001b[0mreturn_dataset\u001b[0m\u001b[1;33m=\u001b[0m\u001b[1;32mFalse\u001b[0m\u001b[1;33m)\u001b[0m\u001b[1;33m\u001b[0m\u001b[1;33m\u001b[0m\u001b[0m\n\u001b[0;32m      4\u001b[0m \u001b[0mX\u001b[0m \u001b[1;33m=\u001b[0m \u001b[0mab\u001b[0m\u001b[1;33m[\u001b[0m\u001b[1;36m0\u001b[0m\u001b[1;33m]\u001b[0m\u001b[1;33m\u001b[0m\u001b[1;33m\u001b[0m\u001b[0m\n\u001b[0;32m      5\u001b[0m \u001b[0my\u001b[0m \u001b[1;33m=\u001b[0m \u001b[0mab\u001b[0m\u001b[1;33m[\u001b[0m\u001b[1;36m1\u001b[0m\u001b[1;33m]\u001b[0m\u001b[1;33m\u001b[0m\u001b[1;33m\u001b[0m\u001b[0m\n",
      "\u001b[1;31mModuleNotFoundError\u001b[0m: No module named 'yellowbrick'"
     ]
    }
   ],
   "source": [
    "# TODO: ADD YOUR CODE HERE\n",
    "import yellowbrick.datasets\n",
    "ab = yellowbrick.datasets.loaders.load_spam(data_home=None, return_dataset=False)\n",
    "X = ab[0]\n",
    "y = ab[1]\n",
    "X_2D = get_n_principal_components(X)\n",
    "\n",
    "print(X.shape,y.shape, X_2D.shape)\n",
    "type(X)\n",
    "type(y)\n",
    "type(X_2D)\n",
    "\n",
    "\n"
   ]
  },
  {
   "cell_type": "markdown",
   "metadata": {},
   "source": [
    "### Train and evaluate models\n",
    "\n",
    "1. Import `LogisticRegression` and `RandomForestClassifier` from sklearn\n",
    "2. Instantiate models `LogisticRegression(max_iter=2000)` and `RandomForestClassifier(random_state=88)` in a list.\n",
    "3. create a for loop iterating the models list:\n",
    "    - Call `get_classifier_accuracy()` using all features, i.e. `X`.\n",
    "    - Call `get_classifier_accuracy()` using PCA features, i.e. `X_2D`.\n",
    "    - Print training and validation accuracy for both. Limit output to **3 decimal places**."
   ]
  },
  {
   "cell_type": "code",
   "execution_count": 190,
   "metadata": {},
   "outputs": [
    {
     "name": "stdout",
     "output_type": "stream",
     "text": [
      "LogisticRegression using all features: (Training score, Validation score): (0.935, 0.918)\n",
      "LogisticRegression using PCA features: (Training score, Validation score): (0.729, 0.725)\n",
      "RandomForestClassifier using all features: (Training score, Validation score): (0.999, 0.944)\n",
      "RandomForestClassifier using PCA features: (Training score, Validation score): (0.999, 0.771)\n"
     ]
    }
   ],
   "source": [
    "# TODO: ADD YOUR CODE HERE\n",
    "\n",
    "\n",
    "from sklearn.linear_model import LogisticRegression\n",
    "from sklearn.ensemble import RandomForestClassifier\n",
    "\n",
    "\n",
    "models = [LogisticRegression(max_iter = 2000),RandomForestClassifier(random_state=88)]\n",
    "\n",
    "\n",
    "\n",
    "\n",
    "\n",
    "for model in models:\n",
    "    \n",
    "\n",
    "    print('{} using all features: (Training score, Validation score): {}'.format(model.__class__.__name__,get_classifier_accuracy(model, X, y)))\n",
    "    print('{} using PCA features: (Training score, Validation score): {}'.format(model.__class__.__name__,get_classifier_accuracy(model, X_2D, y)))\n",
    "\n",
    "\n",
    "\n"
   ]
  },
  {
   "cell_type": "markdown",
   "metadata": {},
   "source": [
    "### Plot PCA feautures\n",
    "Use a Seaborn `scatterplot` to visulaize the two PCA components using the lables in `y` as `hue`.\n",
    "\n",
    "Label x- and y-axis and add a title."
   ]
  },
  {
   "cell_type": "code",
   "execution_count": 192,
   "metadata": {},
   "outputs": [
    {
     "data": {
      "text/plain": [
       "Text(0.5, 0, 'PCA0')"
      ]
     },
     "execution_count": 192,
     "metadata": {},
     "output_type": "execute_result"
    },
    {
     "data": {
      "image/png": "[encoded data removed]",
      "text/plain": [
       "<Figure size 576x396 with 1 Axes>"
      ]
     },
     "metadata": {},
     "output_type": "display_data"
    }
   ],
   "source": [
    "# TODO: ADD YOUR CODE HERE\n",
    "\n",
    "sns.scatterplot(x=X_2D[:,0], y=X_2D[:,1], hue=y)\n",
    "plt.ylabel('PCA1')\n",
    "plt.xlabel('PCA0')"
   ]
  },
  {
   "cell_type": "markdown",
   "metadata": {},
   "source": [
    "## Regression\n",
    "\n",
    "Using yellowbrick energy - regression  \n",
    "https://www.scikit-yb.org/en/latest/api/datasets/energy.html\n",
    "\n",
    "The goal is to compare `LinearRegression()` and `RandomForestRegressor(random_state=88)` regression performance on a validation set with full features and first two principal components."
   ]
  },
  {
   "cell_type": "markdown",
   "metadata": {},
   "source": [
    "### Load data\n",
    "\n",
    "Load the energy data set into feature matrix `X` and target vector `y`.\n",
    "\n",
    "Call `get_n_principal_components()` to obtain feature matrix `X_2D` containing the first two principal components.\n",
    "\n",
    "Print dimensions and type of `X`, `y`, and `X_2D`."
   ]
  },
  {
   "cell_type": "code",
   "execution_count": 193,
   "metadata": {},
   "outputs": [
    {
     "name": "stdout",
     "output_type": "stream",
     "text": [
      "(768, 8) (768,) (768, 2)\n"
     ]
    },
    {
     "data": {
      "text/plain": [
       "numpy.ndarray"
      ]
     },
     "execution_count": 193,
     "metadata": {},
     "output_type": "execute_result"
    }
   ],
   "source": [
    "# TODO: ADD YOUR CODE HERE\n",
    "\n",
    "# from sklearn.metrics import mean_squared_error\n",
    "# from sklearn.model_selection import train_test_split\n",
    "# from sklearn.linear_model import LinearRegression\n",
    "\n",
    "\n",
    "\n",
    "\n",
    "from yellowbrick.datasets import load_energy\n",
    "cd = yellowbrick.datasets.loaders.load_energy(data_home=None, return_dataset=False)\n",
    "\n",
    "X = cd[0]\n",
    "y = cd[1]\n",
    "X_2D = get_n_principal_components(X)\n",
    "print(X.shape,y.shape, X_2D.shape)\n",
    "type(X)\n",
    "type(y)\n",
    "type(X_2D)\n",
    "\n",
    "# model = LinearRegression()\n",
    "# X_train, x_test, Y_train, y_test = train_test_split(X, y, random_state = 956 )\n",
    "# model.fit(X_train, Y_train)\n",
    "# y_pred_test = model.predict(x_test)\n",
    "# y_pred_train = model.predict(X_train)\n",
    "# print(X_train.shape, x_test.shape, Y_train.shape, y_test.shape, y_pred_test.shape)\n",
    "# mean_squared_error(y_test, y_pred_test)\n",
    "# mean_squared_error(Y_train, y_pred_train)"
   ]
  },
  {
   "cell_type": "markdown",
   "metadata": {},
   "source": [
    "### Train and evaluate models\n",
    "\n",
    "1. Import `LinearRegression` and `RandomForestRegressor` from sklearn\n",
    "2. Instantiate models `LinearRegression()` and `RandomForestRegressor(random_state=88)` in a list.\n",
    "3. create a for loop iterating the models list:\n",
    "    - Call `get_regressor_mse()` using all features, i.e. `X`.\n",
    "    - Call `get_regressor_mse()` using PCA features, i.e. `X_2D`.\n",
    "    - Print training and validation accuracy for both. Limit output to **1 decimal place**."
   ]
  },
  {
   "cell_type": "code",
   "execution_count": 194,
   "metadata": {},
   "outputs": [
    {
     "name": "stdout",
     "output_type": "stream",
     "text": [
      "LinearRegression using all features: (Training MSE score, Validation MSE score): (7.9, 10.3)\n",
      "LinearRegression using PCA features: (Training MSE score, Validation MSE score): (22.2, 19.6)\n",
      "RandomForestRegressor using all features: (Training MSE score, Validation MSE score): (0.0, 0.2)\n",
      "RandomForestRegressor using PCA features: (Training MSE score, Validation MSE score): (9.6, 8.6)\n"
     ]
    }
   ],
   "source": [
    "# TODO: ADD YOUR CODE HERE\n",
    "from sklearn.linear_model import LinearRegression\n",
    "from sklearn.ensemble import RandomForestRegressor\n",
    "\n",
    "models = [LinearRegression(),RandomForestRegressor(random_state=88)] \n",
    "a = get_regressor_mse(LinearRegression(), X, y)\n",
    "a\n",
    "for model in models:\n",
    "    print('{} using all features: (Training MSE score, Validation MSE score): {}'.format(model.__class__.__name__,get_regressor_mse(model, X, y)))\n",
    "    print('{} using PCA features: (Training MSE score, Validation MSE score): {}'.format(model.__class__.__name__,get_regressor_mse(model, X_2D, y)))\n",
    "    "
   ]
  },
  {
   "cell_type": "markdown",
   "metadata": {},
   "source": [
    "### Plot PCA feautures\n",
    "Use a Seaborn `scatterplot` to visulaize the two PCA components using the values in `y` as `hue` and `size`.\n",
    "\n",
    "Label x- and y-axis and add a title."
   ]
  },
  {
   "cell_type": "code",
   "execution_count": 197,
   "metadata": {},
   "outputs": [
    {
     "data": {
      "text/plain": [
       "Text(0.5, 0, 'PCA0')"
      ]
     },
     "execution_count": 197,
     "metadata": {},
     "output_type": "execute_result"
    },
    {
     "data": {
      "image/png": "[encoded data removed]",
      "text/plain": [
       "<Figure size 576x396 with 1 Axes>"
      ]
     },
     "metadata": {},
     "output_type": "display_data"
    }
   ],
   "source": [
    "# TODO: ADD YOUR CODE HERE\n",
    "sns.scatterplot(x=X_2D[:,0], y=X_2D[:,1], hue=y)\n",
    "plt.ylabel('PCA1')\n",
    "plt.xlabel('PCA0')"
   ]
  },
  {
   "cell_type": "markdown",
   "metadata": {},
   "source": [
    "## Observations/Interpretation"
   ]
  },
  {
   "cell_type": "markdown",
   "metadata": {},
   "source": [
    "### Questions\n",
    "1. For each task (classification and regression), which model performs best on the validation data using all features?\n",
    "\n",
    "**Classification:**  \n",
    "*According to the calculation above, LogisticRegression is 91.8 % accurate whereas RandomForestClassifier is 94.4% accurate, hence RandomForestClassifier is more accurate*\n",
    "\n",
    "**Regression:**\n",
    "*According to the calculation above, LinearRegression produces a validation score of 10.3 whereas RandomForestRegressor produces 0.2 , hence RandomForestRegressor is more accurate*\n",
    "\n",
    "2. For each task (classification and regression), which model performs best on the validation data using two principal components?\n",
    "\n",
    "**Classification:**\n",
    "*According to the calculation above, LogisticRegression is 72.5 % accurate whereas RandomForestClassifier is 77.1% accurate, hence RandomForestClassifier is more accurate*\n",
    "\n",
    "**Regression:**\n",
    "*According to the calculation above, LinearRegression produces a validation score of 19.6 whereas RandomForestRegressor produces 8.6 , hence RandomForestRegressor is more accurate*\n",
    "\n",
    "3. In each task (classification and regression), for each model, how do full feature and two principal component model scores compare on the validation data?\n",
    "\n",
    "**Classification:**\n",
    "*Both the models have better validation score when its using full feature rather than 2 principal component model*\n",
    "\n",
    "**Regression:**\n",
    "*Both the models have better validation score when its using full feature rather than 2 principal component model*\n",
    "\n",
    "4. Do any of the models underfit or overfit? Provide examples.\n",
    "\n",
    "**Underfitting** \n",
    "*Both classification models LogisticRegression and RandomForestClassifier have very similar accuracy scores for training and validation which inidicates it has low variance. Hence it is underfitting*\n",
    "\n",
    "**Overfitting** \n",
    "*The model RandomForestClassifier when used with the 2 principal component produces a perfect training score of 99.9% but the validation score is of 77.1% which suggests that it's overfitting*\n",
    " \n",
    "### Conclusion\n",
    "*From the analysis it is pretty evident that if we use all the features instead of 2 principal components, our analysis will be more accurate with all the models, as we get better validation scores for all the models using all the features.*  \n"
   ]
  },
  {
   "cell_type": "markdown",
   "metadata": {},
   "source": [
    "## Reflection\n",
    "\n",
    "*This was my first machine learning experince and to be very honest it was very enjoyable. I was scared before the semester started and I thought I will be overwhelmed by all the new information like I was when I first started programming but the way we are taught in the class with examples and having the option to look back at our class really helped*"
   ]
  },
  {
   "cell_type": "code",
   "execution_count": null,
   "metadata": {},
   "outputs": [],
   "source": []
  },
  {
   "cell_type": "code",
   "execution_count": null,
   "metadata": {},
   "outputs": [],
   "source": []
  }
 ],
 "metadata": {
  "kernelspec": {
   "name": "python3",
   "display_name": "Python 3.8.3 64-bit ('Anaconda3')"
  },
  "language_info": {
   "codemirror_mode": {
    "name": "ipython",
    "version": 3
   },
   "file_extension": ".py",
   "mimetype": "text/x-python",
   "name": "python",
   "nbconvert_exporter": "python",
   "pygments_lexer": "ipython3",
   "version": "3.8.3"
  },
  "interpreter": {
   "hash": "aaff5d8ee62284d63e2e5a14564b6f087c68481938a4155d056b8216e854502b"
  }
 },
 "nbformat": 4,
 "nbformat_minor": 4
}